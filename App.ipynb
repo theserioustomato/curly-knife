{
 "cells": [
  {
   "cell_type": "code",
   "execution_count": 9,
   "metadata": {},
   "outputs": [],
   "source": [
    "from flask import Flask, request, render_template\n",
    "from textblob import TextBlob\n",
    "\n",
    "app = Flask(__name__)\n",
    "\n",
    "@app.route(\"/\", methods=[\"GET\", \"POST\"])\n",
    "\n",
    "def index():\n",
    "    if request.method == \"POST\":\n",
    "        text = request.form.get(\"text\")\n",
    "        \n",
    "        print(text)\n",
    "        \n",
    "        out = TextBlob(text).sentiment        \n",
    "        \n",
    "        return(render_template(\"index.html\", result=out))\n",
    "        #return(render_template(\"index.html\", result1=out1, result2=out2, result3=out3))\n",
    "        \n",
    "    else:\n",
    "        return(render_template(\"index.html\", result=\"Hahaha\"))"
   ]
  },
  {
   "cell_type": "code",
   "execution_count": null,
   "metadata": {},
   "outputs": [
    {
     "name": "stdout",
     "output_type": "stream",
     "text": [
      " * Serving Flask app \"__main__\" (lazy loading)\n",
      " * Environment: production\n",
      "\u001b[31m   WARNING: This is a development server. Do not use it in a production deployment.\u001b[0m\n",
      "\u001b[2m   Use a production WSGI server instead.\u001b[0m\n",
      " * Debug mode: off\n"
     ]
    },
    {
     "name": "stderr",
     "output_type": "stream",
     "text": [
      " * Running on http://127.0.0.1:5000/ (Press CTRL+C to quit)\n",
      "127.0.0.1 - - [05/Mar/2022 12:01:32] \"\u001b[37mGET / HTTP/1.1\u001b[0m\" 200 -\n",
      "127.0.0.1 - - [05/Mar/2022 12:01:36] \"\u001b[37mPOST / HTTP/1.1\u001b[0m\" 200 -\n"
     ]
    },
    {
     "name": "stdout",
     "output_type": "stream",
     "text": [
      "djgsah\n"
     ]
    },
    {
     "name": "stderr",
     "output_type": "stream",
     "text": [
      "127.0.0.1 - - [05/Mar/2022 12:03:15] \"\u001b[37mPOST / HTTP/1.1\u001b[0m\" 200 -\n"
     ]
    },
    {
     "name": "stdout",
     "output_type": "stream",
     "text": [
      "Bloomberg Welcome, k2122338k Politics Ukraine Update: UN Security Council to Meet, Warren Blasts Banks\n"
     ]
    },
    {
     "name": "stderr",
     "output_type": "stream",
     "text": [
      "127.0.0.1 - - [05/Mar/2022 12:03:30] \"\u001b[37mPOST / HTTP/1.1\u001b[0m\" 200 -\n"
     ]
    },
    {
     "name": "stdout",
     "output_type": "stream",
     "text": [
      "The United Nations Security Council will meet Monday to discuss the humanitarian situation in Ukraine. The French and Mexican missions to the UN are seeking the Council’s approval of a resolution calling for unhindered humanitarian access in Ukraine.  Ukrainian President Volodymyr Zelenskiy blasted NATO as “weak” for refusing to impose a no-fly zone over Ukraine as Russia steps up its attacks. In Brussels, Secretary of State Antony Blinken said the U.S. and allies are providing “extensive” support for Ukraine, but have a responsibility to ensure the war doesn’t spread even as it’s poised to get worse. \n"
     ]
    }
   ],
   "source": [
    "if __name__ == \"__main__\":\n",
    "    app.run()"
   ]
  },
  {
   "cell_type": "code",
   "execution_count": 3,
   "metadata": {},
   "outputs": [
    {
     "data": {
      "text/plain": [
       "Sentiment(polarity=-0.375, subjectivity=0.625)"
      ]
     },
     "execution_count": 3,
     "metadata": {},
     "output_type": "execute_result"
    }
   ],
   "source": [
    "\"\"\"\n",
    "from textblob import TextBlob\n",
    "\n",
    "#open text file in read mode\n",
    "f = open(\"sample.txt\")\n",
    " \n",
    "#read whole file to a string\n",
    "d = f.read()\n",
    "\n",
    "TextBlob(d).sentiment\n",
    "\"\"\""
   ]
  }
 ],
 "metadata": {
  "kernelspec": {
   "display_name": "Python 3",
   "language": "python",
   "name": "python3"
  },
  "language_info": {
   "codemirror_mode": {
    "name": "ipython",
    "version": 3
   },
   "file_extension": ".py",
   "mimetype": "text/x-python",
   "name": "python",
   "nbconvert_exporter": "python",
   "pygments_lexer": "ipython3",
   "version": "3.8.5"
  }
 },
 "nbformat": 4,
 "nbformat_minor": 4
}
